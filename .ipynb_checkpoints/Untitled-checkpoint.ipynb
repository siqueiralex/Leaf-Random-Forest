{
 "cells": [
  {
   "cell_type": "code",
   "execution_count": 1,
   "metadata": {},
   "outputs": [
    {
     "name": "stderr",
     "output_type": "stream",
     "text": [
      "/usr/local/lib/python3.7/site-packages/sklearn/ensemble/weight_boosting.py:29: DeprecationWarning: numpy.core.umath_tests is an internal NumPy module and should not be imported. It will be removed in a future NumPy release.\n",
      "  from numpy.core.umath_tests import inner1d\n"
     ]
    }
   ],
   "source": [
    "from sklearn.model_selection import train_test_split\n",
    "from sklearn.ensemble import RandomForestClassifier\n",
    "from sklearn.metrics import classification_report\n",
    "from sklearn.metrics import confusion_matrix\n",
    "from sklearn.model_selection import cross_validate\n",
    "from sklearn.preprocessing import normalize\n",
    "import warnings\n",
    "warnings.filterwarnings(\"ignore\")"
   ]
  },
  {
   "cell_type": "code",
   "execution_count": 2,
   "metadata": {},
   "outputs": [
    {
     "name": "stdout",
     "output_type": "stream",
     "text": [
      "Média da acurácia: 0.73125\n"
     ]
    }
   ],
   "source": [
    "from numpy import genfromtxt\n",
    "my_data = genfromtxt('leaf/leaf.csv', delimiter=',')\n",
    "y = my_data[:,:1].astype(int).ravel()\n",
    "X = my_data[:,2:]\n",
    "\n",
    "clf = RandomForestClassifier(random_state=17)\n",
    "scoring = ['precision_macro', 'recall_macro']\n",
    "scores = cross_validate(clf, X, y, cv=8, scoring=scoring)\n",
    "print(\"Média da acurácia:\",scores['test_recall_macro'].mean())"
   ]
  },
  {
   "cell_type": "code",
   "execution_count": 3,
   "metadata": {},
   "outputs": [
    {
     "name": "stdout",
     "output_type": "stream",
     "text": [
      "Média da acurácia com corpus normalizado: 0.73125\n"
     ]
    }
   ],
   "source": [
    "norm_X = X\n",
    "norm_X[:,1] = normalize(X[:,1].reshape((-1,1)), axis=0).reshape((-1,))\n",
    "norm_X[:,-1] = normalize(X[:,-1].reshape((-1,1)), axis=0).reshape((-1,))\n",
    "n_clf = RandomForestClassifier(random_state=17)\n",
    "scoring = ['precision_macro', 'recall_macro']\n",
    "n_scores = cross_validate(n_clf, norm_X, y, cv=8, scoring=scoring)\n",
    "print(\"Média da acurácia com corpus normalizado:\",n_scores['test_recall_macro'].mean())"
   ]
  },
  {
   "cell_type": "code",
   "execution_count": 4,
   "metadata": {},
   "outputs": [
    {
     "name": "stdout",
     "output_type": "stream",
     "text": [
      "             precision    recall  f1-score   support\n",
      "\n",
      "          5       1.00      1.00      1.00         1\n",
      "          7       1.00      1.00      1.00         1\n",
      "         13       0.00      0.00      0.00         1\n",
      "         27       0.00      0.00      0.00         1\n",
      "         33       0.00      0.00      0.00         0\n",
      "\n",
      "avg / total       0.50      0.50      0.50         4\n",
      "\n"
     ]
    }
   ],
   "source": [
    "X_train, X_test, y_train, y_test = train_test_split(X, y, test_size=0.01, shuffle=True)\n",
    "u_clf = RandomForestClassifier(random_state=17)\n",
    "u_clf.fit(X_train, y_train)\n",
    "y_pred = u_clf.predict(X_test)\n",
    "print(classification_report(y_test, y_pred))"
   ]
  },
  {
   "cell_type": "code",
   "execution_count": 13,
   "metadata": {},
   "outputs": [],
   "source": [
    "import numpy as np"
   ]
  },
  {
   "cell_type": "code",
   "execution_count": 40,
   "metadata": {},
   "outputs": [],
   "source": []
  },
  {
   "cell_type": "code",
   "execution_count": null,
   "metadata": {},
   "outputs": [],
   "source": []
  }
 ],
 "metadata": {
  "kernelspec": {
   "display_name": "Python 3",
   "language": "python",
   "name": "python3"
  },
  "language_info": {
   "codemirror_mode": {
    "name": "ipython",
    "version": 3
   },
   "file_extension": ".py",
   "mimetype": "text/x-python",
   "name": "python",
   "nbconvert_exporter": "python",
   "pygments_lexer": "ipython3",
   "version": "3.7.0"
  }
 },
 "nbformat": 4,
 "nbformat_minor": 2
}
